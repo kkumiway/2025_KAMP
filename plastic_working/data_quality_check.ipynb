{
 "cells": [
  {
   "cell_type": "code",
   "execution_count": null,
   "id": "911fff40",
   "metadata": {},
   "outputs": [],
   "source": [
    "import numpy as np\n",
    "import pandas as pd\n",
    "import seaborn as sns\n",
    "import matplotlib.pyplot as plt\n",
    "from scipy import stats as stats\n",
    "from sklearn.model_selection import train_test_split\n",
    "from sklearn.preprocessing import MinMaxScaler\n",
    "from sklearn.ensemble import RandomForestClassifier, AdaBoostClassifier\n",
    "from sklearn.tree import DecisionTreeClassifier\n",
    "from sklearn.metrics import accuracy_score, f1_score, confusion_matrix, precision_score, recall_score\n",
    "from sklearn.model_selection import KFold\n",
    "from warnings import filterwarnings\n",
    "filterwarnings('ignore')"
   ]
  },
  {
   "cell_type": "code",
   "execution_count": null,
   "id": "54a3980e",
   "metadata": {},
   "outputs": [],
   "source": [
    "# 1-1. load data\n",
    "file_path = r\"C:\\Users\\tempuser\\OneDrive - postech.ac.kr\\2025\\7. KAMP 경진대회\\2025_KAMP_anomaly_detection\\data\\2. 소성가공 품질보증 AI 데이터셋.csv\"\n",
    "df = pd.read_csv(file_path)\n",
    "df"
   ]
  },
  {
   "cell_type": "code",
   "execution_count": null,
   "id": "0fdb7b6a",
   "metadata": {},
   "outputs": [],
   "source": [
    "# 완전성 품질 지수 확인\n",
    "ratio = 30\n",
    "sum = 0\n",
    "\n",
    "for column in df.columns:\n",
    "    tmp = df[column]\n",
    "    print('column name :', column)\n",
    "    print('[step 1] 변수별 결측 비율')\n",
    "    print(f\"{round(tmp.isnull().sum()/len(tmp)*100,2)}%\")\n",
    "    \n",
    "    print('[step 2] 변수별 결측 비율 30% 초과 여부')\n",
    "    print(tmp.isnull().sum()/len(tmp)*100>ratio)\n",
    "    \n",
    "    print('[step 3] 전체 데이터셋 결측치 개수')\n",
    "    cmpt_len =tmp.isnull().sum().sum()\n",
    "    print(cmpt_len)\n",
    "    \n",
    "    print(f\"결측치 = {cmpt_len}개\")\n",
    "    \n",
    "    print(f\"완전성 지수 : {round((1-cmpt_len/len(df))*100, 2)}%\")\n",
    "    print('='*30)\n",
    "    sum += (1-cmpt_len/len(df))*100\n",
    "print(f\"전체 완전성 지수 : {round(sum/len(df.columns), 2)}%\")"
   ]
  },
  {
   "cell_type": "code",
   "execution_count": null,
   "id": "a6d4b0b3",
   "metadata": {},
   "outputs": [],
   "source": [
    "# 유일성 품질 지수 확인\n",
    "check_unique = df.value_counts().reset_index(name = 'count')\n",
    "duplicates = check_unique[check_unique['count'] > 1]\n",
    "\n",
    "total_unique_rows = len(check_unique)\n",
    "duplicate_rows = len(duplicates) if not duplicates.empty else 0\n",
    "\n",
    "if total_unique_rows > 0:\n",
    "    perc_check_unique = round((total_unique_rows - duplicate_rows) / total_unique_rows * 100, 2)\n",
    "else:\n",
    "    perc_check_unique = 0.0\n",
    "\n",
    "print(f\"1개(고유 행) : {total_unique_rows}\")\n",
    "print(f\"2개 이상(중복 행) : {duplicate_rows}\")\n",
    "print(f\"유일성 지수 : {perc_check_unique}%\")"
   ]
  },
  {
   "cell_type": "code",
   "execution_count": null,
   "id": "aae672d7",
   "metadata": {},
   "outputs": [],
   "source": [
    "# 일관성 품질 지수 \n",
    "for col in df.columns:\n",
    "    data_type = df[f'{col}'].dtype\n",
    "    print(f'{col}: {data_type}')"
   ]
  },
  {
   "cell_type": "code",
   "execution_count": null,
   "id": "00495f51",
   "metadata": {},
   "outputs": [],
   "source": [
    "# 유효성 품질 지수 확인\n",
    "total_valid_cols = len(df.columns)\n",
    "invalid_cols = 0\n",
    "\n",
    "for column in df.columns:\n",
    "    dtype = df[column].dtype\n",
    "    \n",
    "    if dtype == 'int64':\n",
    "        valid_check = df[column].apply(lambda x: isinstance(x, int) or pd.isna(x))\n",
    "    elif dtype == 'float64':\n",
    "        valid_check = df[column].apply(lambda x: isinstance(x, float) or pd.isna(x))\n",
    "    else:\n",
    "        continue\n",
    "\n",
    "    unique_valids = valid_check.drop_duplicates().tolist()\n",
    "    print(f\"{column} : 데이터 타입 {dtype}, 유효성 {unique_valids}\")\n",
    "\n",
    "    # False가 포함되어 있으면 비유효 컬럼으로 판단\n",
    "    if False in unique_valids:\n",
    "        invalid_cols += 1\n",
    "\n",
    "validity_score = round((total_valid_cols - invalid_cols) / total_valid_cols * 100, 2)\n",
    "print(f\"유효성 지수 : {validity_score}%\")"
   ]
  }
 ],
 "metadata": {
  "kernelspec": {
   "display_name": ".venv",
   "language": "python",
   "name": "python3"
  },
  "language_info": {
   "name": "python",
   "version": "3.13.5"
  }
 },
 "nbformat": 4,
 "nbformat_minor": 5
}
